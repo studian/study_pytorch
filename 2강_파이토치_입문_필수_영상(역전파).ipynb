{
  "nbformat": 4,
  "nbformat_minor": 0,
  "metadata": {
    "colab": {
      "name": "2강. 파이토치 입문 필수 영상(역전파).ipynb",
      "provenance": [],
      "collapsed_sections": [],
      "authorship_tag": "ABX9TyOmOTD1xJOGHwso9am7zgQR",
      "include_colab_link": true
    },
    "kernelspec": {
      "name": "python3",
      "display_name": "Python 3"
    },
    "accelerator": "GPU"
  },
  "cells": [
    {
      "cell_type": "markdown",
      "metadata": {
        "id": "view-in-github",
        "colab_type": "text"
      },
      "source": [
        "<a href=\"https://colab.research.google.com/github/studian/study_pytorch/blob/main/2%EA%B0%95_%ED%8C%8C%EC%9D%B4%ED%86%A0%EC%B9%98_%EC%9E%85%EB%AC%B8_%ED%95%84%EC%88%98_%EC%98%81%EC%83%81(%EC%97%AD%EC%A0%84%ED%8C%8C).ipynb\" target=\"_parent\"><img src=\"https://colab.research.google.com/assets/colab-badge.svg\" alt=\"Open In Colab\"/></a>"
      ]
    },
    {
      "cell_type": "code",
      "metadata": {
        "id": "vWYSCVqLrmaQ"
      },
      "source": [
        "import torch"
      ],
      "execution_count": 1,
      "outputs": []
    },
    {
      "cell_type": "code",
      "metadata": {
        "colab": {
          "base_uri": "https://localhost:8080/"
        },
        "id": "BpqI65fPrr8r",
        "outputId": "46eb1e6a-23c9-483a-e82d-ff9b7f33d20f"
      },
      "source": [
        "# 1. 변수 선언\r\n",
        "x = torch.ones(2,2, requires_grad=True) # requires_grad=True : 역전파 가능하게 세팅, 즉 학습할때 업데이트 될수있도록..\r\n",
        "print(x)"
      ],
      "execution_count": 2,
      "outputs": [
        {
          "output_type": "stream",
          "text": [
            "tensor([[1., 1.],\n",
            "        [1., 1.]], requires_grad=True)\n"
          ],
          "name": "stdout"
        }
      ]
    },
    {
      "cell_type": "code",
      "metadata": {
        "colab": {
          "base_uri": "https://localhost:8080/"
        },
        "id": "byPTiqRzsJxj",
        "outputId": "6e04862c-ed52-4fb9-80d4-4f8f296091bf"
      },
      "source": [
        "# 2. 모델 내 연산 예측값 산출\r\n",
        "y = x+1\r\n",
        "print(y)"
      ],
      "execution_count": 3,
      "outputs": [
        {
          "output_type": "stream",
          "text": [
            "tensor([[2., 2.],\n",
            "        [2., 2.]], grad_fn=<AddBackward0>)\n"
          ],
          "name": "stdout"
        }
      ]
    },
    {
      "cell_type": "code",
      "metadata": {
        "colab": {
          "base_uri": "https://localhost:8080/"
        },
        "id": "RlRlEeA0sLqV",
        "outputId": "76c40e7e-b05a-4007-e840-7470c120b2c9"
      },
      "source": [
        "# 3. 손실 함수 계산\r\n",
        "z = 2*y**2 # 2*y^2\r\n",
        "print(z)\r\n",
        "res = z.mean()"
      ],
      "execution_count": 4,
      "outputs": [
        {
          "output_type": "stream",
          "text": [
            "tensor([[8., 8.],\n",
            "        [8., 8.]], grad_fn=<MulBackward0>)\n"
          ],
          "name": "stdout"
        }
      ]
    },
    {
      "cell_type": "code",
      "metadata": {
        "colab": {
          "base_uri": "https://localhost:8080/"
        },
        "id": "ezMxzOJbsYES",
        "outputId": "37d8592d-d5b3-4117-d9fc-68420591f712"
      },
      "source": [
        "# 4. 손실 산출\r\n",
        "print(res)"
      ],
      "execution_count": 5,
      "outputs": [
        {
          "output_type": "stream",
          "text": [
            "tensor(8., grad_fn=<MeanBackward0>)\n"
          ],
          "name": "stdout"
        }
      ]
    },
    {
      "cell_type": "code",
      "metadata": {
        "id": "3We1-tETsZOC"
      },
      "source": [
        "# 미분\r\n",
        "# d(res) / dx_i = x_i + 1\r\n",
        "#   res = (z_1 + ... + z4)/4\r\n",
        "# z_i = 2 y_i ** 2\r\n",
        "# z_i = 2 (x_i+1) ** 2\r\n",
        "res.backward()"
      ],
      "execution_count": 6,
      "outputs": []
    },
    {
      "cell_type": "code",
      "metadata": {
        "colab": {
          "base_uri": "https://localhost:8080/"
        },
        "id": "UrT5x7yKuSfd",
        "outputId": "e8592deb-f51d-440f-c88a-fa7743b3dc1d"
      },
      "source": [
        "print(x.grad)"
      ],
      "execution_count": 7,
      "outputs": [
        {
          "output_type": "stream",
          "text": [
            "tensor([[2., 2.],\n",
            "        [2., 2.]])\n"
          ],
          "name": "stdout"
        }
      ]
    },
    {
      "cell_type": "code",
      "metadata": {
        "id": "Y5ztJbHYuURj"
      },
      "source": [
        "import torch.nn as nn\r\n",
        "import torch.nn.functional as f # conv, 리니어함수, 활성함수 등이 있음"
      ],
      "execution_count": 8,
      "outputs": []
    },
    {
      "cell_type": "code",
      "metadata": {
        "id": "9q1bDhjfun_U"
      },
      "source": [
        ""
      ],
      "execution_count": 8,
      "outputs": []
    }
  ]
}