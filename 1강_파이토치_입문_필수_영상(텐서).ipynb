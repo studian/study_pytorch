{
  "nbformat": 4,
  "nbformat_minor": 0,
  "metadata": {
    "colab": {
      "name": "1강. 파이토치 입문 필수 영상(텐서).ipynb",
      "provenance": [],
      "authorship_tag": "ABX9TyNhHi5NsCYdjFffw+4cVINF",
      "include_colab_link": true
    },
    "kernelspec": {
      "name": "python3",
      "display_name": "Python 3"
    },
    "accelerator": "GPU"
  },
  "cells": [
    {
      "cell_type": "markdown",
      "metadata": {
        "id": "view-in-github",
        "colab_type": "text"
      },
      "source": [
        "<a href=\"https://colab.research.google.com/github/studian/study_pytorch/blob/main/1%EA%B0%95_%ED%8C%8C%EC%9D%B4%ED%86%A0%EC%B9%98_%EC%9E%85%EB%AC%B8_%ED%95%84%EC%88%98_%EC%98%81%EC%83%81(%ED%85%90%EC%84%9C).ipynb\" target=\"_parent\"><img src=\"https://colab.research.google.com/assets/colab-badge.svg\" alt=\"Open In Colab\"/></a>"
      ]
    },
    {
      "cell_type": "code",
      "metadata": {
        "id": "CFZIa_EHmI_C"
      },
      "source": [
        "import torch\r\n",
        "import numpy as np"
      ],
      "execution_count": 1,
      "outputs": []
    },
    {
      "cell_type": "code",
      "metadata": {
        "colab": {
          "base_uri": "https://localhost:8080/"
        },
        "id": "Do5wT67cmQoB",
        "outputId": "232a42c8-63f7-4f4e-ef41-16bb20c70554"
      },
      "source": [
        "x = torch.empty(5,4)\r\n",
        "print(x)"
      ],
      "execution_count": 5,
      "outputs": [
        {
          "output_type": "stream",
          "text": [
            "tensor([[3.7597e-35, 0.0000e+00, 7.0065e-44, 6.7262e-44],\n",
            "        [6.3058e-44, 6.8664e-44, 7.0065e-44, 6.3058e-44],\n",
            "        [6.8664e-44, 7.1466e-44, 1.1771e-43, 6.8664e-44],\n",
            "        [6.7262e-44, 8.1275e-44, 6.8664e-44, 7.8473e-44],\n",
            "        [8.1275e-44, 6.8664e-44, 6.8664e-44, 6.4460e-44]])\n"
          ],
          "name": "stdout"
        }
      ]
    },
    {
      "cell_type": "code",
      "metadata": {
        "colab": {
          "base_uri": "https://localhost:8080/"
        },
        "id": "geZxoF-LmaJI",
        "outputId": "b5a730b1-3b12-4b22-b8d2-bca047e9da84"
      },
      "source": [
        "torch.ones(3,3)"
      ],
      "execution_count": 6,
      "outputs": [
        {
          "output_type": "execute_result",
          "data": {
            "text/plain": [
              "tensor([[1., 1., 1.],\n",
              "        [1., 1., 1.],\n",
              "        [1., 1., 1.]])"
            ]
          },
          "metadata": {
            "tags": []
          },
          "execution_count": 6
        }
      ]
    },
    {
      "cell_type": "code",
      "metadata": {
        "id": "v0vZrfhEm8Ix"
      },
      "source": [
        "l = [13,4]\r\n",
        "r = np.array([[4,56,7]])"
      ],
      "execution_count": 7,
      "outputs": []
    },
    {
      "cell_type": "code",
      "metadata": {
        "colab": {
          "base_uri": "https://localhost:8080/"
        },
        "id": "8CyHl-sWnFFI",
        "outputId": "2348d395-5da7-48eb-c77e-3ddcfbd27abe"
      },
      "source": [
        "torch.tensor(l)"
      ],
      "execution_count": 8,
      "outputs": [
        {
          "output_type": "execute_result",
          "data": {
            "text/plain": [
              "tensor([13,  4])"
            ]
          },
          "metadata": {
            "tags": []
          },
          "execution_count": 8
        }
      ]
    },
    {
      "cell_type": "code",
      "metadata": {
        "colab": {
          "base_uri": "https://localhost:8080/"
        },
        "id": "xcqu2XsinIxC",
        "outputId": "164a884f-2c92-411a-f224-2c708729b93b"
      },
      "source": [
        "torch.tensor(r)"
      ],
      "execution_count": 9,
      "outputs": [
        {
          "output_type": "execute_result",
          "data": {
            "text/plain": [
              "tensor([[ 4, 56,  7]])"
            ]
          },
          "metadata": {
            "tags": []
          },
          "execution_count": 9
        }
      ]
    },
    {
      "cell_type": "code",
      "metadata": {
        "colab": {
          "base_uri": "https://localhost:8080/"
        },
        "id": "yaRSP6UinLUg",
        "outputId": "6bdc476d-f557-4a63-b223-4960d659d15b"
      },
      "source": [
        "x.size()"
      ],
      "execution_count": 10,
      "outputs": [
        {
          "output_type": "execute_result",
          "data": {
            "text/plain": [
              "torch.Size([5, 4])"
            ]
          },
          "metadata": {
            "tags": []
          },
          "execution_count": 10
        }
      ]
    },
    {
      "cell_type": "code",
      "metadata": {
        "colab": {
          "base_uri": "https://localhost:8080/"
        },
        "id": "9Xgyj-WMnNVA",
        "outputId": "3c699947-7dd4-4a13-ef1a-c20f0aa25aee"
      },
      "source": [
        "type(x)"
      ],
      "execution_count": 11,
      "outputs": [
        {
          "output_type": "execute_result",
          "data": {
            "text/plain": [
              "torch.Tensor"
            ]
          },
          "metadata": {
            "tags": []
          },
          "execution_count": 11
        }
      ]
    },
    {
      "cell_type": "code",
      "metadata": {
        "colab": {
          "base_uri": "https://localhost:8080/"
        },
        "id": "_yGP7eCenPDo",
        "outputId": "3ef83fa2-20c0-4baa-f9b0-5cb1f37a80ee"
      },
      "source": [
        "x= torch.rand(2,2)\r\n",
        "y= torch.rand(2,2)\r\n",
        "print(x)\r\n",
        "print(y)"
      ],
      "execution_count": 12,
      "outputs": [
        {
          "output_type": "stream",
          "text": [
            "tensor([[0.5835, 0.6168],\n",
            "        [0.4354, 0.4381]])\n",
            "tensor([[0.9110, 0.9923],\n",
            "        [0.2372, 0.2473]])\n"
          ],
          "name": "stdout"
        }
      ]
    },
    {
      "cell_type": "code",
      "metadata": {
        "colab": {
          "base_uri": "https://localhost:8080/"
        },
        "id": "IzyPyYMwnVPQ",
        "outputId": "eeafd9dc-7f30-441c-8cf1-bba0a2e3edf1"
      },
      "source": [
        "x+y"
      ],
      "execution_count": 13,
      "outputs": [
        {
          "output_type": "execute_result",
          "data": {
            "text/plain": [
              "tensor([[1.4944, 1.6092],\n",
              "        [0.6725, 0.6854]])"
            ]
          },
          "metadata": {
            "tags": []
          },
          "execution_count": 13
        }
      ]
    },
    {
      "cell_type": "code",
      "metadata": {
        "colab": {
          "base_uri": "https://localhost:8080/"
        },
        "id": "jMnYvQlQnWCw",
        "outputId": "448e0f81-7ccc-41da-b8b6-e473087669ea"
      },
      "source": [
        "torch.add(x,y)\r\n"
      ],
      "execution_count": 14,
      "outputs": [
        {
          "output_type": "execute_result",
          "data": {
            "text/plain": [
              "tensor([[1.4944, 1.6092],\n",
              "        [0.6725, 0.6854]])"
            ]
          },
          "metadata": {
            "tags": []
          },
          "execution_count": 14
        }
      ]
    },
    {
      "cell_type": "code",
      "metadata": {
        "colab": {
          "base_uri": "https://localhost:8080/"
        },
        "id": "NyV1fFehnbKR",
        "outputId": "4380fb0c-7748-402f-b656-2d5b354f6985"
      },
      "source": [
        "y.add(x)"
      ],
      "execution_count": 15,
      "outputs": [
        {
          "output_type": "execute_result",
          "data": {
            "text/plain": [
              "tensor([[1.4944, 1.6092],\n",
              "        [0.6725, 0.6854]])"
            ]
          },
          "metadata": {
            "tags": []
          },
          "execution_count": 15
        }
      ]
    },
    {
      "cell_type": "code",
      "metadata": {
        "colab": {
          "base_uri": "https://localhost:8080/"
        },
        "id": "J0rmMmr-nl9A",
        "outputId": "9cafd0a1-3066-448d-b392-778478df5f21"
      },
      "source": [
        "y"
      ],
      "execution_count": 16,
      "outputs": [
        {
          "output_type": "execute_result",
          "data": {
            "text/plain": [
              "tensor([[0.9110, 0.9923],\n",
              "        [0.2372, 0.2473]])"
            ]
          },
          "metadata": {
            "tags": []
          },
          "execution_count": 16
        }
      ]
    },
    {
      "cell_type": "code",
      "metadata": {
        "colab": {
          "base_uri": "https://localhost:8080/"
        },
        "id": "E0Jq1J6FnnRQ",
        "outputId": "abfa8410-a015-4d63-c700-5ed09d7ebaa6"
      },
      "source": [
        "y.add_(x)"
      ],
      "execution_count": 17,
      "outputs": [
        {
          "output_type": "execute_result",
          "data": {
            "text/plain": [
              "tensor([[1.4944, 1.6092],\n",
              "        [0.6725, 0.6854]])"
            ]
          },
          "metadata": {
            "tags": []
          },
          "execution_count": 17
        }
      ]
    },
    {
      "cell_type": "code",
      "metadata": {
        "colab": {
          "base_uri": "https://localhost:8080/"
        },
        "id": "KbZENjIVnp4g",
        "outputId": "d9161694-8de8-4b77-a4fc-3bd298292107"
      },
      "source": [
        "y"
      ],
      "execution_count": 18,
      "outputs": [
        {
          "output_type": "execute_result",
          "data": {
            "text/plain": [
              "tensor([[1.4944, 1.6092],\n",
              "        [0.6725, 0.6854]])"
            ]
          },
          "metadata": {
            "tags": []
          },
          "execution_count": 18
        }
      ]
    },
    {
      "cell_type": "code",
      "metadata": {
        "colab": {
          "base_uri": "https://localhost:8080/"
        },
        "id": "M6MvbAIvnq-4",
        "outputId": "97a81126-ef3e-4baa-cf55-53ac5dd0a922"
      },
      "source": [
        "y[:,1]"
      ],
      "execution_count": 20,
      "outputs": [
        {
          "output_type": "execute_result",
          "data": {
            "text/plain": [
              "tensor([1.6092, 0.6854])"
            ]
          },
          "metadata": {
            "tags": []
          },
          "execution_count": 20
        }
      ]
    },
    {
      "cell_type": "code",
      "metadata": {
        "colab": {
          "base_uri": "https://localhost:8080/"
        },
        "id": "c3yuproCn4sA",
        "outputId": "a85399f0-ba80-4304-abce-751ebee59d9e"
      },
      "source": [
        "y[1,:]"
      ],
      "execution_count": 22,
      "outputs": [
        {
          "output_type": "execute_result",
          "data": {
            "text/plain": [
              "tensor([0.6725, 0.6854])"
            ]
          },
          "metadata": {
            "tags": []
          },
          "execution_count": 22
        }
      ]
    },
    {
      "cell_type": "code",
      "metadata": {
        "colab": {
          "base_uri": "https://localhost:8080/"
        },
        "id": "eqf5C4FfoDsB",
        "outputId": "68475280-e99c-46fd-860c-baa66cada487"
      },
      "source": [
        "x = torch.rand(8,8)\r\n",
        "print(x)\r\n",
        "# 2차원 벡터 생성.. 랜덤으로"
      ],
      "execution_count": 25,
      "outputs": [
        {
          "output_type": "stream",
          "text": [
            "tensor([[0.5786, 0.1104, 0.3686, 0.7423, 0.1749, 0.7738, 0.1801, 0.4668],\n",
            "        [0.6185, 0.8333, 0.3683, 0.4613, 0.5849, 0.4748, 0.5653, 0.6528],\n",
            "        [0.5942, 0.8763, 0.3111, 0.9796, 0.8343, 0.8621, 0.7910, 0.8920],\n",
            "        [0.7699, 0.8307, 0.1924, 0.4242, 0.6023, 0.5152, 0.3067, 0.8256],\n",
            "        [0.4390, 0.6546, 0.1670, 0.4922, 0.9872, 0.4861, 0.3656, 0.8178],\n",
            "        [0.7991, 0.2285, 0.7496, 0.0865, 0.5507, 0.4619, 0.3940, 0.9245],\n",
            "        [0.1235, 0.0013, 0.8119, 0.5885, 0.1650, 0.2406, 0.3347, 0.9640],\n",
            "        [0.1223, 0.4162, 0.3809, 0.8269, 0.0571, 0.3759, 0.1377, 0.5894]])\n"
          ],
          "name": "stdout"
        }
      ]
    },
    {
      "cell_type": "code",
      "metadata": {
        "colab": {
          "base_uri": "https://localhost:8080/",
          "height": 190
        },
        "id": "b5AXyBKQoRyJ",
        "outputId": "a4c118a4-01f7-466c-efaa-ebaf1d64379d"
      },
      "source": [
        "x.view(64) # CNN -> 플래튼 할때 사용\r\n",
        "# 2차원 벡터를 1차원 벡터로 바꿈,"
      ],
      "execution_count": 39,
      "outputs": [
        {
          "output_type": "error",
          "ename": "RuntimeError",
          "evalue": "ignored",
          "traceback": [
            "\u001b[0;31m---------------------------------------------------------------------------\u001b[0m",
            "\u001b[0;31mRuntimeError\u001b[0m                              Traceback (most recent call last)",
            "\u001b[0;32m<ipython-input-39-1cba30eaeb57>\u001b[0m in \u001b[0;36m<module>\u001b[0;34m()\u001b[0m\n\u001b[0;32m----> 1\u001b[0;31m \u001b[0mx\u001b[0m\u001b[0;34m.\u001b[0m\u001b[0mview\u001b[0m\u001b[0;34m(\u001b[0m\u001b[0;36m64\u001b[0m\u001b[0;34m)\u001b[0m \u001b[0;31m# CNN -> 플래튼 할때 사용\u001b[0m\u001b[0;34m\u001b[0m\u001b[0;34m\u001b[0m\u001b[0m\n\u001b[0m\u001b[1;32m      2\u001b[0m \u001b[0;31m# 2차원 벡터를 1차원 벡터로 바꿈,\u001b[0m\u001b[0;34m\u001b[0m\u001b[0;34m\u001b[0m\u001b[0;34m\u001b[0m\u001b[0m\n",
            "\u001b[0;31mRuntimeError\u001b[0m: shape '[64]' is invalid for input of size 1"
          ]
        }
      ]
    },
    {
      "cell_type": "code",
      "metadata": {
        "colab": {
          "base_uri": "https://localhost:8080/"
        },
        "id": "4p_NgyB1oTnY",
        "outputId": "379ede88-ba24-45fc-b4f6-d0b5beb9c1fb"
      },
      "source": [
        "x.view(4,16)\r\n",
        "# 8x8 행렬을 --> 4x16 행렬로 바꿈"
      ],
      "execution_count": 27,
      "outputs": [
        {
          "output_type": "execute_result",
          "data": {
            "text/plain": [
              "tensor([[0.5786, 0.1104, 0.3686, 0.7423, 0.1749, 0.7738, 0.1801, 0.4668, 0.6185,\n",
              "         0.8333, 0.3683, 0.4613, 0.5849, 0.4748, 0.5653, 0.6528],\n",
              "        [0.5942, 0.8763, 0.3111, 0.9796, 0.8343, 0.8621, 0.7910, 0.8920, 0.7699,\n",
              "         0.8307, 0.1924, 0.4242, 0.6023, 0.5152, 0.3067, 0.8256],\n",
              "        [0.4390, 0.6546, 0.1670, 0.4922, 0.9872, 0.4861, 0.3656, 0.8178, 0.7991,\n",
              "         0.2285, 0.7496, 0.0865, 0.5507, 0.4619, 0.3940, 0.9245],\n",
              "        [0.1235, 0.0013, 0.8119, 0.5885, 0.1650, 0.2406, 0.3347, 0.9640, 0.1223,\n",
              "         0.4162, 0.3809, 0.8269, 0.0571, 0.3759, 0.1377, 0.5894]])"
            ]
          },
          "metadata": {
            "tags": []
          },
          "execution_count": 27
        }
      ]
    },
    {
      "cell_type": "code",
      "metadata": {
        "colab": {
          "base_uri": "https://localhost:8080/"
        },
        "id": "1cmkGZQbowoQ",
        "outputId": "fe7f1353-e24e-4a22-c046-127c67f5c8a0"
      },
      "source": [
        "x.view(-1,16)\r\n",
        "# 8x8 행렬을 --> 4x16 행렬로 바꿈"
      ],
      "execution_count": 28,
      "outputs": [
        {
          "output_type": "execute_result",
          "data": {
            "text/plain": [
              "tensor([[0.5786, 0.1104, 0.3686, 0.7423, 0.1749, 0.7738, 0.1801, 0.4668, 0.6185,\n",
              "         0.8333, 0.3683, 0.4613, 0.5849, 0.4748, 0.5653, 0.6528],\n",
              "        [0.5942, 0.8763, 0.3111, 0.9796, 0.8343, 0.8621, 0.7910, 0.8920, 0.7699,\n",
              "         0.8307, 0.1924, 0.4242, 0.6023, 0.5152, 0.3067, 0.8256],\n",
              "        [0.4390, 0.6546, 0.1670, 0.4922, 0.9872, 0.4861, 0.3656, 0.8178, 0.7991,\n",
              "         0.2285, 0.7496, 0.0865, 0.5507, 0.4619, 0.3940, 0.9245],\n",
              "        [0.1235, 0.0013, 0.8119, 0.5885, 0.1650, 0.2406, 0.3347, 0.9640, 0.1223,\n",
              "         0.4162, 0.3809, 0.8269, 0.0571, 0.3759, 0.1377, 0.5894]])"
            ]
          },
          "metadata": {
            "tags": []
          },
          "execution_count": 28
        }
      ]
    },
    {
      "cell_type": "code",
      "metadata": {
        "colab": {
          "base_uri": "https://localhost:8080/",
          "height": 190
        },
        "id": "e_ZF0AC3pDH4",
        "outputId": "a3fd95ed-1ecb-4320-d3d0-01a72be36854"
      },
      "source": [
        "x.view(-1,4,4)\r\n",
        "# 8x8 행렬을 --> 1x4x4 행렬로 바꿈\r\n"
      ],
      "execution_count": 38,
      "outputs": [
        {
          "output_type": "error",
          "ename": "RuntimeError",
          "evalue": "ignored",
          "traceback": [
            "\u001b[0;31m---------------------------------------------------------------------------\u001b[0m",
            "\u001b[0;31mRuntimeError\u001b[0m                              Traceback (most recent call last)",
            "\u001b[0;32m<ipython-input-38-24b27cff5c89>\u001b[0m in \u001b[0;36m<module>\u001b[0;34m()\u001b[0m\n\u001b[0;32m----> 1\u001b[0;31m \u001b[0mx\u001b[0m\u001b[0;34m.\u001b[0m\u001b[0mview\u001b[0m\u001b[0;34m(\u001b[0m\u001b[0;34m-\u001b[0m\u001b[0;36m1\u001b[0m\u001b[0;34m,\u001b[0m\u001b[0;36m4\u001b[0m\u001b[0;34m,\u001b[0m\u001b[0;36m4\u001b[0m\u001b[0;34m)\u001b[0m\u001b[0;34m\u001b[0m\u001b[0;34m\u001b[0m\u001b[0m\n\u001b[0m\u001b[1;32m      2\u001b[0m \u001b[0;31m# 8x8 행렬을 --> 1x4x4 행렬로 바꿈\u001b[0m\u001b[0;34m\u001b[0m\u001b[0;34m\u001b[0m\u001b[0;34m\u001b[0m\u001b[0m\n",
            "\u001b[0;31mRuntimeError\u001b[0m: shape '[-1, 4, 4]' is invalid for input of size 1"
          ]
        }
      ]
    },
    {
      "cell_type": "code",
      "metadata": {
        "colab": {
          "base_uri": "https://localhost:8080/"
        },
        "id": "kn8jOlqypFiR",
        "outputId": "fd56c8e4-5d09-4dff-8b4e-096e9d86b28c"
      },
      "source": [
        "# tensor를 numpy로 바꾸기\r\n",
        "y = x.numpy()\r\n",
        "print(y)\r\n",
        "type(y)"
      ],
      "execution_count": 32,
      "outputs": [
        {
          "output_type": "stream",
          "text": [
            "[[0.5785806  0.11039889 0.36860567 0.74226135 0.17493308 0.7738229\n",
            "  0.18008101 0.46682042]\n",
            " [0.618544   0.83331835 0.36834258 0.4613437  0.58490527 0.47483706\n",
            "  0.5653389  0.6527528 ]\n",
            " [0.5942195  0.8762847  0.31108922 0.9796131  0.83426523 0.8621158\n",
            "  0.79103583 0.8920354 ]\n",
            " [0.76985615 0.8307447  0.192424   0.42417675 0.6023475  0.515197\n",
            "  0.30669713 0.82558537]\n",
            " [0.43901426 0.6545615  0.16700721 0.49223185 0.98715824 0.48605675\n",
            "  0.36564296 0.8177814 ]\n",
            " [0.7990569  0.22849405 0.74961835 0.0865255  0.5506601  0.4618823\n",
            "  0.39403474 0.9245208 ]\n",
            " [0.12353671 0.00128525 0.81187224 0.5884501  0.16499949 0.24059343\n",
            "  0.3346951  0.96398073]\n",
            " [0.12232572 0.41619992 0.38094103 0.82689154 0.05707306 0.37590104\n",
            "  0.13767505 0.5894211 ]]\n"
          ],
          "name": "stdout"
        },
        {
          "output_type": "execute_result",
          "data": {
            "text/plain": [
              "numpy.ndarray"
            ]
          },
          "metadata": {
            "tags": []
          },
          "execution_count": 32
        }
      ]
    },
    {
      "cell_type": "code",
      "metadata": {
        "id": "0R9GX_vspOxo"
      },
      "source": [
        "# item : 원소가 1개일때만 사용가능, 스칼라값 ==> loss 계산할때 대표 loss값을 직접뽑아내고 싶을때 사용하면 됨\r\n",
        "x = torch.ones(1)"
      ],
      "execution_count": 36,
      "outputs": []
    },
    {
      "cell_type": "code",
      "metadata": {
        "colab": {
          "base_uri": "https://localhost:8080/"
        },
        "id": "ElmryNH0plMQ",
        "outputId": "e6b4cc85-4f54-4820-88b7-4e3e51d89956"
      },
      "source": [
        "x"
      ],
      "execution_count": 34,
      "outputs": [
        {
          "output_type": "execute_result",
          "data": {
            "text/plain": [
              "tensor([1.])"
            ]
          },
          "metadata": {
            "tags": []
          },
          "execution_count": 34
        }
      ]
    },
    {
      "cell_type": "code",
      "metadata": {
        "colab": {
          "base_uri": "https://localhost:8080/"
        },
        "id": "gi9v08xHplzw",
        "outputId": "e71d5b21-c1f3-4e3e-c39d-65046c75c54b"
      },
      "source": [
        "x.item()"
      ],
      "execution_count": 35,
      "outputs": [
        {
          "output_type": "execute_result",
          "data": {
            "text/plain": [
              "1.0"
            ]
          },
          "metadata": {
            "tags": []
          },
          "execution_count": 35
        }
      ]
    },
    {
      "cell_type": "code",
      "metadata": {
        "id": "lMvpfBtipnJo"
      },
      "source": [
        ""
      ],
      "execution_count": null,
      "outputs": []
    }
  ]
}