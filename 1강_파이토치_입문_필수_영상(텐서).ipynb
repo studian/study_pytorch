{
  "nbformat": 4,
  "nbformat_minor": 0,
  "metadata": {
    "colab": {
      "name": "1강. 파이토치 입문 필수 영상(텐서).ipynb",
      "provenance": [],
      "authorship_tag": "ABX9TyNhHi5NsCYdjFffw+4cVINF",
      "include_colab_link": true
    },
    "kernelspec": {
      "name": "python3",
      "display_name": "Python 3"
    },
    "accelerator": "GPU"
  },
  "cells": [
    {
      "cell_type": "markdown",
      "metadata": {
        "id": "view-in-github",
        "colab_type": "text"
      },
      "source": [
        "<a href=\"https://colab.research.google.com/github/studian/study_pytorch/blob/main/1%EA%B0%95_%ED%8C%8C%EC%9D%B4%ED%86%A0%EC%B9%98_%EC%9E%85%EB%AC%B8_%ED%95%84%EC%88%98_%EC%98%81%EC%83%81(%ED%85%90%EC%84%9C).ipynb\" target=\"_parent\"><img src=\"https://colab.research.google.com/assets/colab-badge.svg\" alt=\"Open In Colab\"/></a>"
      ]
    },
    {
      "cell_type": "code",
      "metadata": {
        "id": "CFZIa_EHmI_C"
      },
      "source": [
        "import torch\r\n",
        "import numpy as np"
      ],
      "execution_count": 1,
      "outputs": []
    },
    {
      "cell_type": "code",
      "metadata": {
        "colab": {
          "base_uri": "https://localhost:8080/"
        },
        "id": "Do5wT67cmQoB",
        "outputId": "86c1dbcd-66b0-4517-e542-7c4fbbb37cff"
      },
      "source": [
        "x = torch.empty(5,4)\r\n",
        "print(x)"
      ],
      "execution_count": 2,
      "outputs": [
        {
          "output_type": "stream",
          "text": [
            "tensor([[4.0968e-36, 0.0000e+00, 7.0065e-44, 6.7262e-44],\n",
            "        [6.3058e-44, 6.8664e-44, 7.0065e-44, 6.3058e-44],\n",
            "        [6.8664e-44, 7.1466e-44, 1.1771e-43, 6.8664e-44],\n",
            "        [6.7262e-44, 8.1275e-44, 7.1466e-44, 7.5670e-44],\n",
            "        [8.1275e-44, 6.8664e-44, 6.8664e-44, 6.4460e-44]])\n"
          ],
          "name": "stdout"
        }
      ]
    },
    {
      "cell_type": "code",
      "metadata": {
        "colab": {
          "base_uri": "https://localhost:8080/"
        },
        "id": "geZxoF-LmaJI",
        "outputId": "61427923-4c91-45f5-d05e-c9551f0d2e9b"
      },
      "source": [
        "torch.ones(3,3)"
      ],
      "execution_count": 3,
      "outputs": [
        {
          "output_type": "execute_result",
          "data": {
            "text/plain": [
              "tensor([[1., 1., 1.],\n",
              "        [1., 1., 1.],\n",
              "        [1., 1., 1.]])"
            ]
          },
          "metadata": {
            "tags": []
          },
          "execution_count": 3
        }
      ]
    },
    {
      "cell_type": "code",
      "metadata": {
        "id": "v0vZrfhEm8Ix"
      },
      "source": [
        "l = [13,4]\r\n",
        "r = np.array([[4,56,7]])"
      ],
      "execution_count": 4,
      "outputs": []
    },
    {
      "cell_type": "code",
      "metadata": {
        "colab": {
          "base_uri": "https://localhost:8080/"
        },
        "id": "8CyHl-sWnFFI",
        "outputId": "60978c01-f502-4dd1-8b92-f020ce08cd16"
      },
      "source": [
        "torch.tensor(l)"
      ],
      "execution_count": 5,
      "outputs": [
        {
          "output_type": "execute_result",
          "data": {
            "text/plain": [
              "tensor([13,  4])"
            ]
          },
          "metadata": {
            "tags": []
          },
          "execution_count": 5
        }
      ]
    },
    {
      "cell_type": "code",
      "metadata": {
        "colab": {
          "base_uri": "https://localhost:8080/"
        },
        "id": "xcqu2XsinIxC",
        "outputId": "92591e20-069a-4d2e-a425-06e2637e92d6"
      },
      "source": [
        "torch.tensor(r)"
      ],
      "execution_count": 6,
      "outputs": [
        {
          "output_type": "execute_result",
          "data": {
            "text/plain": [
              "tensor([[ 4, 56,  7]])"
            ]
          },
          "metadata": {
            "tags": []
          },
          "execution_count": 6
        }
      ]
    },
    {
      "cell_type": "code",
      "metadata": {
        "colab": {
          "base_uri": "https://localhost:8080/"
        },
        "id": "yaRSP6UinLUg",
        "outputId": "848084b3-7254-4790-8a6e-2b81231dd742"
      },
      "source": [
        "x.size()"
      ],
      "execution_count": 7,
      "outputs": [
        {
          "output_type": "execute_result",
          "data": {
            "text/plain": [
              "torch.Size([5, 4])"
            ]
          },
          "metadata": {
            "tags": []
          },
          "execution_count": 7
        }
      ]
    },
    {
      "cell_type": "code",
      "metadata": {
        "colab": {
          "base_uri": "https://localhost:8080/"
        },
        "id": "9Xgyj-WMnNVA",
        "outputId": "06fda474-dc0a-429a-b271-e9e179bc00d5"
      },
      "source": [
        "type(x)"
      ],
      "execution_count": 8,
      "outputs": [
        {
          "output_type": "execute_result",
          "data": {
            "text/plain": [
              "torch.Tensor"
            ]
          },
          "metadata": {
            "tags": []
          },
          "execution_count": 8
        }
      ]
    },
    {
      "cell_type": "code",
      "metadata": {
        "colab": {
          "base_uri": "https://localhost:8080/"
        },
        "id": "_yGP7eCenPDo",
        "outputId": "1163131e-d8d9-4585-a603-e2bbadd9af6e"
      },
      "source": [
        "x= torch.rand(2,2)\r\n",
        "y= torch.rand(2,2)\r\n",
        "print(x)\r\n",
        "print(y)"
      ],
      "execution_count": 9,
      "outputs": [
        {
          "output_type": "stream",
          "text": [
            "tensor([[0.1081, 0.8075],\n",
            "        [0.3392, 0.3508]])\n",
            "tensor([[0.8971, 0.1295],\n",
            "        [0.1048, 0.9496]])\n"
          ],
          "name": "stdout"
        }
      ]
    },
    {
      "cell_type": "code",
      "metadata": {
        "colab": {
          "base_uri": "https://localhost:8080/"
        },
        "id": "IzyPyYMwnVPQ",
        "outputId": "391f810b-8301-47e6-df17-0d867b974168"
      },
      "source": [
        "x+y"
      ],
      "execution_count": 10,
      "outputs": [
        {
          "output_type": "execute_result",
          "data": {
            "text/plain": [
              "tensor([[1.0052, 0.9370],\n",
              "        [0.4439, 1.3004]])"
            ]
          },
          "metadata": {
            "tags": []
          },
          "execution_count": 10
        }
      ]
    },
    {
      "cell_type": "code",
      "metadata": {
        "colab": {
          "base_uri": "https://localhost:8080/"
        },
        "id": "jMnYvQlQnWCw",
        "outputId": "4a2dc3d8-bb21-47ca-dff7-1e790facfded"
      },
      "source": [
        "torch.add(x,y)\r\n"
      ],
      "execution_count": 11,
      "outputs": [
        {
          "output_type": "execute_result",
          "data": {
            "text/plain": [
              "tensor([[1.0052, 0.9370],\n",
              "        [0.4439, 1.3004]])"
            ]
          },
          "metadata": {
            "tags": []
          },
          "execution_count": 11
        }
      ]
    },
    {
      "cell_type": "code",
      "metadata": {
        "colab": {
          "base_uri": "https://localhost:8080/"
        },
        "id": "NyV1fFehnbKR",
        "outputId": "9c5e00c6-9bf0-489b-de17-705d860eef8b"
      },
      "source": [
        "y.add(x)"
      ],
      "execution_count": 12,
      "outputs": [
        {
          "output_type": "execute_result",
          "data": {
            "text/plain": [
              "tensor([[1.0052, 0.9370],\n",
              "        [0.4439, 1.3004]])"
            ]
          },
          "metadata": {
            "tags": []
          },
          "execution_count": 12
        }
      ]
    },
    {
      "cell_type": "code",
      "metadata": {
        "colab": {
          "base_uri": "https://localhost:8080/"
        },
        "id": "J0rmMmr-nl9A",
        "outputId": "0adf282c-20d0-4ca9-9007-301c1f1ef659"
      },
      "source": [
        "y"
      ],
      "execution_count": 13,
      "outputs": [
        {
          "output_type": "execute_result",
          "data": {
            "text/plain": [
              "tensor([[0.8971, 0.1295],\n",
              "        [0.1048, 0.9496]])"
            ]
          },
          "metadata": {
            "tags": []
          },
          "execution_count": 13
        }
      ]
    },
    {
      "cell_type": "code",
      "metadata": {
        "colab": {
          "base_uri": "https://localhost:8080/"
        },
        "id": "E0Jq1J6FnnRQ",
        "outputId": "ad785182-3319-4343-b8d9-ddb2ea0c004b"
      },
      "source": [
        "y.add_(x)"
      ],
      "execution_count": 14,
      "outputs": [
        {
          "output_type": "execute_result",
          "data": {
            "text/plain": [
              "tensor([[1.0052, 0.9370],\n",
              "        [0.4439, 1.3004]])"
            ]
          },
          "metadata": {
            "tags": []
          },
          "execution_count": 14
        }
      ]
    },
    {
      "cell_type": "code",
      "metadata": {
        "colab": {
          "base_uri": "https://localhost:8080/"
        },
        "id": "KbZENjIVnp4g",
        "outputId": "0b3b5f57-ef84-4610-df1d-bfccaf562b3f"
      },
      "source": [
        "y"
      ],
      "execution_count": 15,
      "outputs": [
        {
          "output_type": "execute_result",
          "data": {
            "text/plain": [
              "tensor([[1.0052, 0.9370],\n",
              "        [0.4439, 1.3004]])"
            ]
          },
          "metadata": {
            "tags": []
          },
          "execution_count": 15
        }
      ]
    },
    {
      "cell_type": "code",
      "metadata": {
        "colab": {
          "base_uri": "https://localhost:8080/"
        },
        "id": "M6MvbAIvnq-4",
        "outputId": "9fedab42-a3c4-4819-9601-3b0d891d30e5"
      },
      "source": [
        "y[:,1]"
      ],
      "execution_count": 16,
      "outputs": [
        {
          "output_type": "execute_result",
          "data": {
            "text/plain": [
              "tensor([0.9370, 1.3004])"
            ]
          },
          "metadata": {
            "tags": []
          },
          "execution_count": 16
        }
      ]
    },
    {
      "cell_type": "code",
      "metadata": {
        "colab": {
          "base_uri": "https://localhost:8080/"
        },
        "id": "c3yuproCn4sA",
        "outputId": "29537175-97c6-477a-a20a-4222e611cfb7"
      },
      "source": [
        "y[1,:]"
      ],
      "execution_count": 17,
      "outputs": [
        {
          "output_type": "execute_result",
          "data": {
            "text/plain": [
              "tensor([0.4439, 1.3004])"
            ]
          },
          "metadata": {
            "tags": []
          },
          "execution_count": 17
        }
      ]
    },
    {
      "cell_type": "code",
      "metadata": {
        "colab": {
          "base_uri": "https://localhost:8080/"
        },
        "id": "eqf5C4FfoDsB",
        "outputId": "f0a7d6c7-13fd-4945-b25e-e78fd881859f"
      },
      "source": [
        "x = torch.rand(8,8)\r\n",
        "print(x)\r\n",
        "# 2차원 벡터 생성.. 랜덤으로"
      ],
      "execution_count": 18,
      "outputs": [
        {
          "output_type": "stream",
          "text": [
            "tensor([[0.8615, 0.2196, 0.1513, 0.4157, 0.0716, 0.0852, 0.0296, 0.4423],\n",
            "        [0.8919, 0.0355, 0.2560, 0.8386, 0.8192, 0.0467, 0.1905, 0.7797],\n",
            "        [0.6097, 0.6609, 0.9235, 0.7643, 0.7146, 0.4733, 0.2128, 0.4901],\n",
            "        [0.4317, 0.1459, 0.7785, 0.8602, 0.8362, 0.0707, 0.5935, 0.2376],\n",
            "        [0.2913, 0.4737, 0.6523, 0.2639, 0.1501, 0.6722, 0.3817, 0.1189],\n",
            "        [0.3150, 0.2867, 0.1704, 0.9746, 0.0235, 0.5970, 0.3980, 0.1984],\n",
            "        [0.7574, 0.9570, 0.3150, 0.4169, 0.7866, 0.2734, 0.0082, 0.9438],\n",
            "        [0.9365, 0.8160, 0.3071, 0.9257, 0.9921, 0.5787, 0.2950, 0.9767]])\n"
          ],
          "name": "stdout"
        }
      ]
    },
    {
      "cell_type": "code",
      "metadata": {
        "colab": {
          "base_uri": "https://localhost:8080/"
        },
        "id": "b5AXyBKQoRyJ",
        "outputId": "9d31346d-7558-45ae-b0d0-6538fd64672d"
      },
      "source": [
        "x.view(64) # CNN -> 플래튼 할때 사용\r\n",
        "# 2차원 벡터를 1차원 벡터로 바꿈,"
      ],
      "execution_count": 19,
      "outputs": [
        {
          "output_type": "execute_result",
          "data": {
            "text/plain": [
              "tensor([0.8615, 0.2196, 0.1513, 0.4157, 0.0716, 0.0852, 0.0296, 0.4423, 0.8919,\n",
              "        0.0355, 0.2560, 0.8386, 0.8192, 0.0467, 0.1905, 0.7797, 0.6097, 0.6609,\n",
              "        0.9235, 0.7643, 0.7146, 0.4733, 0.2128, 0.4901, 0.4317, 0.1459, 0.7785,\n",
              "        0.8602, 0.8362, 0.0707, 0.5935, 0.2376, 0.2913, 0.4737, 0.6523, 0.2639,\n",
              "        0.1501, 0.6722, 0.3817, 0.1189, 0.3150, 0.2867, 0.1704, 0.9746, 0.0235,\n",
              "        0.5970, 0.3980, 0.1984, 0.7574, 0.9570, 0.3150, 0.4169, 0.7866, 0.2734,\n",
              "        0.0082, 0.9438, 0.9365, 0.8160, 0.3071, 0.9257, 0.9921, 0.5787, 0.2950,\n",
              "        0.9767])"
            ]
          },
          "metadata": {
            "tags": []
          },
          "execution_count": 19
        }
      ]
    },
    {
      "cell_type": "code",
      "metadata": {
        "colab": {
          "base_uri": "https://localhost:8080/"
        },
        "id": "4p_NgyB1oTnY",
        "outputId": "6f4ce9fc-61aa-48c0-a12e-cc6a6e398e43"
      },
      "source": [
        "x.view(4,16)\r\n",
        "# 8x8 행렬을 --> 4x16 행렬로 바꿈"
      ],
      "execution_count": 20,
      "outputs": [
        {
          "output_type": "execute_result",
          "data": {
            "text/plain": [
              "tensor([[0.8615, 0.2196, 0.1513, 0.4157, 0.0716, 0.0852, 0.0296, 0.4423, 0.8919,\n",
              "         0.0355, 0.2560, 0.8386, 0.8192, 0.0467, 0.1905, 0.7797],\n",
              "        [0.6097, 0.6609, 0.9235, 0.7643, 0.7146, 0.4733, 0.2128, 0.4901, 0.4317,\n",
              "         0.1459, 0.7785, 0.8602, 0.8362, 0.0707, 0.5935, 0.2376],\n",
              "        [0.2913, 0.4737, 0.6523, 0.2639, 0.1501, 0.6722, 0.3817, 0.1189, 0.3150,\n",
              "         0.2867, 0.1704, 0.9746, 0.0235, 0.5970, 0.3980, 0.1984],\n",
              "        [0.7574, 0.9570, 0.3150, 0.4169, 0.7866, 0.2734, 0.0082, 0.9438, 0.9365,\n",
              "         0.8160, 0.3071, 0.9257, 0.9921, 0.5787, 0.2950, 0.9767]])"
            ]
          },
          "metadata": {
            "tags": []
          },
          "execution_count": 20
        }
      ]
    },
    {
      "cell_type": "code",
      "metadata": {
        "colab": {
          "base_uri": "https://localhost:8080/"
        },
        "id": "1cmkGZQbowoQ",
        "outputId": "6d63b028-1bc4-4e64-b6c4-187e43dec0dd"
      },
      "source": [
        "x.view(-1,16)\r\n",
        "# 8x8 행렬을 --> 4x16 행렬로 바꿈"
      ],
      "execution_count": 21,
      "outputs": [
        {
          "output_type": "execute_result",
          "data": {
            "text/plain": [
              "tensor([[0.8615, 0.2196, 0.1513, 0.4157, 0.0716, 0.0852, 0.0296, 0.4423, 0.8919,\n",
              "         0.0355, 0.2560, 0.8386, 0.8192, 0.0467, 0.1905, 0.7797],\n",
              "        [0.6097, 0.6609, 0.9235, 0.7643, 0.7146, 0.4733, 0.2128, 0.4901, 0.4317,\n",
              "         0.1459, 0.7785, 0.8602, 0.8362, 0.0707, 0.5935, 0.2376],\n",
              "        [0.2913, 0.4737, 0.6523, 0.2639, 0.1501, 0.6722, 0.3817, 0.1189, 0.3150,\n",
              "         0.2867, 0.1704, 0.9746, 0.0235, 0.5970, 0.3980, 0.1984],\n",
              "        [0.7574, 0.9570, 0.3150, 0.4169, 0.7866, 0.2734, 0.0082, 0.9438, 0.9365,\n",
              "         0.8160, 0.3071, 0.9257, 0.9921, 0.5787, 0.2950, 0.9767]])"
            ]
          },
          "metadata": {
            "tags": []
          },
          "execution_count": 21
        }
      ]
    },
    {
      "cell_type": "code",
      "metadata": {
        "colab": {
          "base_uri": "https://localhost:8080/"
        },
        "id": "e_ZF0AC3pDH4",
        "outputId": "31f798d1-eade-4a7f-ea44-8a4ef75fa8ee"
      },
      "source": [
        "x.view(-1,4,4)\r\n",
        "# 8x8 행렬을 --> 1x4x4 행렬로 바꿈\r\n"
      ],
      "execution_count": 22,
      "outputs": [
        {
          "output_type": "execute_result",
          "data": {
            "text/plain": [
              "tensor([[[0.8615, 0.2196, 0.1513, 0.4157],\n",
              "         [0.0716, 0.0852, 0.0296, 0.4423],\n",
              "         [0.8919, 0.0355, 0.2560, 0.8386],\n",
              "         [0.8192, 0.0467, 0.1905, 0.7797]],\n",
              "\n",
              "        [[0.6097, 0.6609, 0.9235, 0.7643],\n",
              "         [0.7146, 0.4733, 0.2128, 0.4901],\n",
              "         [0.4317, 0.1459, 0.7785, 0.8602],\n",
              "         [0.8362, 0.0707, 0.5935, 0.2376]],\n",
              "\n",
              "        [[0.2913, 0.4737, 0.6523, 0.2639],\n",
              "         [0.1501, 0.6722, 0.3817, 0.1189],\n",
              "         [0.3150, 0.2867, 0.1704, 0.9746],\n",
              "         [0.0235, 0.5970, 0.3980, 0.1984]],\n",
              "\n",
              "        [[0.7574, 0.9570, 0.3150, 0.4169],\n",
              "         [0.7866, 0.2734, 0.0082, 0.9438],\n",
              "         [0.9365, 0.8160, 0.3071, 0.9257],\n",
              "         [0.9921, 0.5787, 0.2950, 0.9767]]])"
            ]
          },
          "metadata": {
            "tags": []
          },
          "execution_count": 22
        }
      ]
    },
    {
      "cell_type": "code",
      "metadata": {
        "colab": {
          "base_uri": "https://localhost:8080/"
        },
        "id": "kn8jOlqypFiR",
        "outputId": "bcb3fdce-0f66-4082-afc8-8b76afc7df49"
      },
      "source": [
        "# tensor를 numpy로 바꾸기\r\n",
        "y = x.numpy()\r\n",
        "print(y)\r\n",
        "type(y)"
      ],
      "execution_count": 23,
      "outputs": [
        {
          "output_type": "stream",
          "text": [
            "[[0.8615257  0.21959221 0.15130848 0.41574132 0.0715515  0.08523792\n",
            "  0.0295648  0.44233042]\n",
            " [0.8919014  0.03550529 0.25597382 0.83862793 0.8191854  0.0466879\n",
            "  0.19050407 0.7797304 ]\n",
            " [0.6096645  0.6608696  0.9235146  0.7642912  0.7145978  0.47326988\n",
            "  0.21283096 0.49014813]\n",
            " [0.43174106 0.14590049 0.7784941  0.8601613  0.8362388  0.07066435\n",
            "  0.59353876 0.23761135]\n",
            " [0.29125702 0.4737029  0.6522568  0.26394677 0.15010393 0.67222315\n",
            "  0.3816834  0.11888593]\n",
            " [0.31498605 0.2866847  0.17039466 0.9746177  0.02346039 0.59696203\n",
            "  0.398004   0.1983661 ]\n",
            " [0.75739086 0.9569682  0.31502688 0.41691983 0.7866424  0.27344877\n",
            "  0.00816131 0.94375116]\n",
            " [0.936468   0.8159814  0.3071469  0.9257409  0.9921252  0.57871276\n",
            "  0.29502028 0.97674936]]\n"
          ],
          "name": "stdout"
        },
        {
          "output_type": "execute_result",
          "data": {
            "text/plain": [
              "numpy.ndarray"
            ]
          },
          "metadata": {
            "tags": []
          },
          "execution_count": 23
        }
      ]
    },
    {
      "cell_type": "code",
      "metadata": {
        "id": "0R9GX_vspOxo"
      },
      "source": [
        "# item : 원소가 1개일때만 사용가능, 스칼라값 ==> loss 계산할때 대표 loss값을 직접뽑아내고 싶을때 사용하면 됨\r\n",
        "x = torch.ones(1)"
      ],
      "execution_count": 24,
      "outputs": []
    },
    {
      "cell_type": "code",
      "metadata": {
        "colab": {
          "base_uri": "https://localhost:8080/"
        },
        "id": "ElmryNH0plMQ",
        "outputId": "e8025bdd-37ac-4bed-d2b7-196b5a63fcc5"
      },
      "source": [
        "x"
      ],
      "execution_count": 25,
      "outputs": [
        {
          "output_type": "execute_result",
          "data": {
            "text/plain": [
              "tensor([1.])"
            ]
          },
          "metadata": {
            "tags": []
          },
          "execution_count": 25
        }
      ]
    },
    {
      "cell_type": "code",
      "metadata": {
        "colab": {
          "base_uri": "https://localhost:8080/"
        },
        "id": "gi9v08xHplzw",
        "outputId": "3df6e5ca-23a0-483f-b9f7-2fcb9943a927"
      },
      "source": [
        "x.item()"
      ],
      "execution_count": 26,
      "outputs": [
        {
          "output_type": "execute_result",
          "data": {
            "text/plain": [
              "1.0"
            ]
          },
          "metadata": {
            "tags": []
          },
          "execution_count": 26
        }
      ]
    },
    {
      "cell_type": "code",
      "metadata": {
        "id": "lMvpfBtipnJo"
      },
      "source": [
        ""
      ],
      "execution_count": 26,
      "outputs": []
    }
  ]
}